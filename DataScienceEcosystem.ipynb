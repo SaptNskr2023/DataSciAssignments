{
 "cells": [
  {
   "cell_type": "markdown",
   "id": "149bc3cb",
   "metadata": {},
   "source": [
    "# Data Science Tools and Ecosystem\n"
   ]
  },
  {
   "cell_type": "markdown",
   "id": "f32149f9",
   "metadata": {},
   "source": [
    "In this notebook, Data Science Tools and Ecosystem are summarized."
   ]
  },
  {
   "cell_type": "markdown",
   "id": "19fdc0d7",
   "metadata": {},
   "source": [
    "__Objectives:__\n",
    "+ List popular languages in data science\n",
    "+ List popular libraries used in data science\n",
    "+ List commonly used development environment open source tools in data science\n",
    "+ Create code cells for simple arithmatic operations\n"
   ]
  },
  {
   "cell_type": "markdown",
   "id": "ef7ca4dc",
   "metadata": {},
   "source": [
    "Some of the popular languages that Data Scientists use are:\n",
    "1. Python\n",
    "2. R\n",
    "3. Scala\n",
    "4. Julia"
   ]
  },
  {
   "cell_type": "markdown",
   "id": "d4e4ea73",
   "metadata": {},
   "source": [
    "Some of the commonly used libraries used by Data Scientists include:\n",
    "1. Matplotlib\n",
    "2. NumPy\n",
    "3. Keras"
   ]
  },
  {
   "cell_type": "markdown",
   "id": "08c36868",
   "metadata": {},
   "source": [
    "|Data Science Tools\n",
    "|---------------------------\n",
    "|Jupyter notebook\n",
    "|RStudio\n",
    "|Google CoLab\n"
   ]
  },
  {
   "cell_type": "markdown",
   "id": "d1e599a7",
   "metadata": {},
   "source": [
    "### Below are a few examples of evaluating arithmetic expressions in Python"
   ]
  },
  {
   "cell_type": "code",
   "execution_count": 1,
   "id": "382d5b74",
   "metadata": {},
   "outputs": [
    {
     "data": {
      "text/plain": [
       "17"
      ]
     },
     "execution_count": 1,
     "metadata": {},
     "output_type": "execute_result"
    }
   ],
   "source": [
    "# this a simple arithmetic expression to mutiply then add integers\n",
    "(3*4)+5"
   ]
  },
  {
   "cell_type": "code",
   "execution_count": 3,
   "id": "eec3e302",
   "metadata": {},
   "outputs": [
    {
     "name": "stdout",
     "output_type": "stream",
     "text": [
      "200 minutes are equal to 3.3333333333333335 hours\n"
     ]
    }
   ],
   "source": [
    "# This will convert 200 minutes to hours by diving by 60\n",
    "m=200\n",
    "h=m/60\n",
    "print(m,\"minutes are equal to\", h, \"hours\")"
   ]
  },
  {
   "cell_type": "markdown",
   "id": "06fd8aaa",
   "metadata": {},
   "source": [
    "## Author\n",
    "Saptarnab Naskar"
   ]
  },
  {
   "cell_type": "code",
   "execution_count": null,
   "id": "493fe051",
   "metadata": {},
   "outputs": [],
   "source": []
  }
 ],
 "metadata": {
  "kernelspec": {
   "display_name": "Python 3 (ipykernel)",
   "language": "python",
   "name": "python3"
  },
  "language_info": {
   "codemirror_mode": {
    "name": "ipython",
    "version": 3
   },
   "file_extension": ".py",
   "mimetype": "text/x-python",
   "name": "python",
   "nbconvert_exporter": "python",
   "pygments_lexer": "ipython3",
   "version": "3.9.13"
  }
 },
 "nbformat": 4,
 "nbformat_minor": 5
}
